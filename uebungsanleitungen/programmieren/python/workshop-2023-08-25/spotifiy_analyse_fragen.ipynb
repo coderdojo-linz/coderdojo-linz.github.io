{
  "metadata": {
    "language_info": {
      "codemirror_mode": {
        "name": "python",
        "version": 3
      },
      "file_extension": ".py",
      "mimetype": "text/x-python",
      "name": "python",
      "nbconvert_exporter": "python",
      "pygments_lexer": "ipython3",
      "version": "3.8"
    },
    "kernelspec": {
      "name": "python",
      "display_name": "Python (Pyodide)",
      "language": "python"
    }
  },
  "nbformat_minor": 4,
  "nbformat": 4,
  "cells": [
    {
      "cell_type": "markdown",
      "source": "# Spotify Analyse",
      "metadata": {}
    },
    {
      "cell_type": "markdown",
      "source": "## Packages laden",
      "metadata": {}
    },
    {
      "cell_type": "code",
      "source": "import pandas as pd\nimport numpy as np\nimport matplotlib.pyplot as plt\n\nimport piplite\nawait piplite.install('seaborn')\n\nimport seaborn as sns\n%matplotlib inline",
      "metadata": {
        "trusted": true
      },
      "execution_count": 1,
      "outputs": []
    },
    {
      "cell_type": "markdown",
      "source": "## Daten laden",
      "metadata": {}
    },
    {
      "cell_type": "markdown",
      "source": "Lade die Daten spotify.csv",
      "metadata": {}
    },
    {
      "cell_type": "code",
      "source": "",
      "metadata": {},
      "execution_count": null,
      "outputs": []
    },
    {
      "cell_type": "markdown",
      "source": "## Erste Einblicke in die Daten",
      "metadata": {}
    },
    {
      "cell_type": "markdown",
      "source": "Erkunde den Datensatz von Spotify, der folgende Spalten enthält:\n- artist: Interpret\n- album: Album\n- song: Songtitel\n- popularity: Beliebtheit des Songs\n- duration_ms: Dauer des Songs in Millisekunden\n- danceability: beschreibt wie gut man zu dem Song tanzen kann\n- energy: beschreibt wie energiegeladen ein Song ist\n- loudness: durchschnittliche Lautstärke des Songs\n- speechiness: beschreibt den Anteil an gesprochenen Worten\n- acousticness: beschreibt, ob der Song eine Akustik Version ist\n- instrumentalness: beschreibt, ob der Song instrumental ist\n- liveness: gibt an, ob es eine Live-Version ist\n- valence: beschreibt die Stimmung des Songs (höhere Werte -> positive Stimmung)\n- tempo: beschreibt das Tempo des Songs\n- genre: Musikrichtung",
      "metadata": {}
    },
    {
      "cell_type": "code",
      "source": "",
      "metadata": {},
      "execution_count": null,
      "outputs": []
    },
    {
      "cell_type": "markdown",
      "source": "## Fragen",
      "metadata": {
        "tags": []
      }
    },
    {
      "cell_type": "markdown",
      "source": "### Beliebtheit\n1. Stelle die Beliebtheit in einem Histogramm dar\n2. Mache eine Tabelle in der die Songs nach Beliebtheit geordnet sind.  Welche 5 Songs sind am beliebtesten?",
      "metadata": {}
    },
    {
      "cell_type": "code",
      "source": "",
      "metadata": {},
      "execution_count": null,
      "outputs": []
    },
    {
      "cell_type": "markdown",
      "source": "### Songdauer\n1. Stelle die Songdauer in einem Histogramm dar.\n2. Welcher Song dauert am längsten und wie lange ist er?\n(Um eine bessere Vorstellung zu bekommen, kannst du zuerst auch die Dauer von Millisekunden in Minuten umrechnen.)",
      "metadata": {}
    },
    {
      "cell_type": "code",
      "source": "",
      "metadata": {},
      "execution_count": null,
      "outputs": []
    },
    {
      "cell_type": "markdown",
      "source": "### Künstler \n1. Welche Künstler kommen am öftesten in diesem Datensatz vor?\n2. Findest du deinen Lieblingssänger / Lieblingsband in diesem Datensatz?",
      "metadata": {}
    },
    {
      "cell_type": "code",
      "source": "",
      "metadata": {},
      "execution_count": null,
      "outputs": []
    },
    {
      "cell_type": "markdown",
      "source": "### Auf der Suche nach Zusammenhängen\n1. Wähle eine Musikrichtung aus und erstelle eine Tabelle, in der nur Songs dieser Musikrichtung vorkommen.\n2. Versuche für diese Musikrichtung Zusammenhänge zwischen den vorhandenen Eigenschaften zu finden:\n- Hat die Dauer einen Einfluss auf die Beliebtheit?\n- Sind schnellere Songs lauter?\n- Gibt es einen Zusammenhang zwischen loudness und energy?\n- Zu welchem Tempo kann man am besten tanzen?\n- Sind akustische Version tatsächlich leiser?\n- ...",
      "metadata": {}
    },
    {
      "cell_type": "code",
      "source": "",
      "metadata": {},
      "execution_count": null,
      "outputs": []
    }
  ]
}