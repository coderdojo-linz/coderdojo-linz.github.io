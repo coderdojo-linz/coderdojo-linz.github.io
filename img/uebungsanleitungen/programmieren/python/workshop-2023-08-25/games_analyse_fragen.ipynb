{
  "metadata": {
    "language_info": {
      "codemirror_mode": {
        "name": "python",
        "version": 3
      },
      "file_extension": ".py",
      "mimetype": "text/x-python",
      "name": "python",
      "nbconvert_exporter": "python",
      "pygments_lexer": "ipython3",
      "version": "3.8"
    },
    "kernelspec": {
      "name": "python",
      "display_name": "Python (Pyodide)",
      "language": "python"
    }
  },
  "nbformat_minor": 4,
  "nbformat": 4,
  "cells": [
    {
      "cell_type": "markdown",
      "source": "# Games Analyse",
      "metadata": {}
    },
    {
      "cell_type": "markdown",
      "source": "## Packages laden",
      "metadata": {}
    },
    {
      "cell_type": "code",
      "source": "import pandas as pd\nimport numpy as np\nimport matplotlib.pyplot as plt\n\nimport piplite\nawait piplite.install('seaborn')\nimport seaborn as sns",
      "metadata": {
        "trusted": true
      },
      "execution_count": 1,
      "outputs": []
    },
    {
      "cell_type": "markdown",
      "source": "## Daten laden",
      "metadata": {
        "tags": []
      }
    },
    {
      "cell_type": "markdown",
      "source": "Lade die Daten games.csv",
      "metadata": {}
    },
    {
      "cell_type": "code",
      "source": "",
      "metadata": {},
      "execution_count": null,
      "outputs": []
    },
    {
      "cell_type": "markdown",
      "source": "## Erste Einblicke in die Daten",
      "metadata": {}
    },
    {
      "cell_type": "markdown",
      "source": "Erkunde den Datensatz mit Videospielen, der folgende Spalten enthält:\n- Name: Name des Spiels\n- Platform: Spielplattfrom\n- Year_of_Release: Jahr der Veröffentlichung\n- Genre: Spieltyp\n- Publisher: Verkäufer\n- NA_Sales: Verkäufe in Nordamerika\n- EU_Sales: Verkäufe in der EU\n- JP_Sales: Verkäufe in Japan\n- Other_Sales: Verkäufe in restlichen Ländern\n- Global_Sales: Verkäufe weltweit\n- User_Score: Benutzerwertung\n- Rating: Altersfreigabe\n    - +E: Everyone can play it. (keine Alterseinschränkung)\n    - +M: Mature 17+ (ab 17)\n    - T: For Teens (für Jugendliche)\n    - K-A: Kids to Adults (Kinder und Erwachsene)\n    - AO: Adults Only (nur Erwachsene)\n    - RP: Ratings are Pending (Rating noch nicht vorhande)\n    - E10+: Age of 10+ can play(ab 10 Jahre)",
      "metadata": {}
    },
    {
      "cell_type": "code",
      "source": "",
      "metadata": {},
      "execution_count": null,
      "outputs": []
    },
    {
      "cell_type": "markdown",
      "source": "## Fragen",
      "metadata": {
        "tags": []
      }
    },
    {
      "cell_type": "markdown",
      "source": "### User Score\n1. Stelle den User Score in einem Histogramm dar\n2. Mache eine Tabelle in der die Spiele nach User Score geordnet sind.  Welche 5 Spiele sind am beliebtesten?\n3. Welche Spielekategorie erzielt im Mittel den höchsten User Score?",
      "metadata": {}
    },
    {
      "cell_type": "code",
      "source": "",
      "metadata": {},
      "execution_count": null,
      "outputs": []
    },
    {
      "cell_type": "markdown",
      "source": "### Plattform\n1. Welche Plattformen kommen am häufigsten vor?\n2. Kannst du dazu eine passende Grafik machen?",
      "metadata": {
        "tags": []
      }
    },
    {
      "cell_type": "code",
      "source": "",
      "metadata": {},
      "execution_count": null,
      "outputs": []
    },
    {
      "cell_type": "markdown",
      "source": "### Genre\n1. Stelle die Häufigkeiten der Genres in einem Balkendiagramm dar. \n2. Welcher Spieltyp kommt am häufigsten vor? \n3. Welcher am wenigsten?",
      "metadata": {}
    },
    {
      "cell_type": "code",
      "source": "",
      "metadata": {},
      "execution_count": null,
      "outputs": []
    },
    {
      "cell_type": "markdown",
      "source": "### Rating\n1. Für welche Altersgruppe gibt es die meisten Spiele?\n2. Welche Altersgruppe hat im Mittel die höchste Userbewertung?",
      "metadata": {}
    },
    {
      "cell_type": "code",
      "source": "",
      "metadata": {},
      "execution_count": null,
      "outputs": []
    },
    {
      "cell_type": "markdown",
      "source": "### Verkaufszahlen\n1. Stelle die Verkaufszahlen in einem Histogramm dar.\n2. Sind Spiele mit hohen Verkaufszahlen auch bei den Usern höher bewertet?",
      "metadata": {}
    },
    {
      "cell_type": "code",
      "source": "",
      "metadata": {},
      "execution_count": null,
      "outputs": []
    },
    {
      "cell_type": "markdown",
      "source": "## Trends\n1. Gruppiere den Datensatz nach dem Jahr der Veröffentlichung und der Spielekategorie. Bilde von den Verkaufszahlen die Summe.\n2. Stelle diese Tabelle in einem Linienplot dar. Verwende dazu den Befehl sns.lineplot.\nAuf die x-Achse kommt das Jahr, auf die y-Achse die weltweiten Verkaufszahlen und eingefärbt wird nach dem Genre.\n3. Welche Trends kannst du erkennen? Welche Spiele waren wann am beliebtesten?",
      "metadata": {}
    },
    {
      "cell_type": "code",
      "source": "",
      "metadata": {},
      "execution_count": null,
      "outputs": []
    }
  ]
}